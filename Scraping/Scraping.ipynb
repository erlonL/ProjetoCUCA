{
 "cells": [
  {
   "cell_type": "code",
   "execution_count": 2,
   "id": "29bb864f",
   "metadata": {},
   "outputs": [],
   "source": [
    "import pandas as pd\n",
    "import json\n",
    "\n",
    "df = pd.read_json('saci.json')\n",
    "\n",
    "df_normalized = pd.json_normalize(df['solution'])\n",
    "\n",
    "df_combined = pd.concat([df.drop('solution', axis=1), df_normalized], axis=1)\n",
    "\n",
    "df = df_combined"
   ]
  },
  {
   "cell_type": "code",
   "execution_count": 4,
   "id": "4a87e7fb",
   "metadata": {},
   "outputs": [
    {
     "data": {
      "text/html": [
       "<div>\n",
       "<style scoped>\n",
       "    .dataframe tbody tr th:only-of-type {\n",
       "        vertical-align: middle;\n",
       "    }\n",
       "\n",
       "    .dataframe tbody tr th {\n",
       "        vertical-align: top;\n",
       "    }\n",
       "\n",
       "    .dataframe thead th {\n",
       "        text-align: right;\n",
       "    }\n",
       "</style>\n",
       "<table border=\"1\" class=\"dataframe\">\n",
       "  <thead>\n",
       "    <tr style=\"text-align: right;\">\n",
       "      <th></th>\n",
       "      <th>id</th>\n",
       "      <th>bloco</th>\n",
       "      <th>nome</th>\n",
       "      <th>capacidade</th>\n",
       "      <th>tipo</th>\n",
       "      <th>acessivel</th>\n",
       "      <th>preferencias</th>\n",
       "      <th>execao</th>\n",
       "      <th>classes</th>\n",
       "    </tr>\n",
       "  </thead>\n",
       "  <tbody>\n",
       "    <tr>\n",
       "      <th>0</th>\n",
       "      <td>1104</td>\n",
       "      <td>CI</td>\n",
       "      <td>102</td>\n",
       "      <td>57</td>\n",
       "      <td>Sala</td>\n",
       "      <td>False</td>\n",
       "      <td>[{'name': 'CI-DCC', 'value': 1}, {'name': 'CI-...</td>\n",
       "      <td>undefined</td>\n",
       "      <td>[{'id': 5341, 'codigo': '1107131', 'nome': 'PE...</td>\n",
       "    </tr>\n",
       "    <tr>\n",
       "      <th>1</th>\n",
       "      <td>1105</td>\n",
       "      <td>LIEPE</td>\n",
       "      <td>04</td>\n",
       "      <td>69</td>\n",
       "      <td>Sala</td>\n",
       "      <td>False</td>\n",
       "      <td>[{'name': 'CI-DCC', 'value': 1}, {'name': 'CI-...</td>\n",
       "      <td>undefined</td>\n",
       "      <td>[{'id': 5352, 'codigo': 'GDSCO0062', 'nome': '...</td>\n",
       "    </tr>\n",
       "    <tr>\n",
       "      <th>2</th>\n",
       "      <td>1106</td>\n",
       "      <td>CI</td>\n",
       "      <td>104</td>\n",
       "      <td>32</td>\n",
       "      <td>Sala</td>\n",
       "      <td>False</td>\n",
       "      <td>[{'name': 'CI-DCC', 'value': 1}, {'name': 'CI-...</td>\n",
       "      <td>undefined</td>\n",
       "      <td>[{'id': 5359, 'codigo': 'GDCOC0095', 'nome': '...</td>\n",
       "    </tr>\n",
       "  </tbody>\n",
       "</table>\n",
       "</div>"
      ],
      "text/plain": [
       "     id  bloco nome  capacidade  tipo  acessivel  \\\n",
       "0  1104     CI  102          57  Sala      False   \n",
       "1  1105  LIEPE   04          69  Sala      False   \n",
       "2  1106     CI  104          32  Sala      False   \n",
       "\n",
       "                                        preferencias     execao  \\\n",
       "0  [{'name': 'CI-DCC', 'value': 1}, {'name': 'CI-...  undefined   \n",
       "1  [{'name': 'CI-DCC', 'value': 1}, {'name': 'CI-...  undefined   \n",
       "2  [{'name': 'CI-DCC', 'value': 1}, {'name': 'CI-...  undefined   \n",
       "\n",
       "                                             classes  \n",
       "0  [{'id': 5341, 'codigo': '1107131', 'nome': 'PE...  \n",
       "1  [{'id': 5352, 'codigo': 'GDSCO0062', 'nome': '...  \n",
       "2  [{'id': 5359, 'codigo': 'GDCOC0095', 'nome': '...  "
      ]
     },
     "execution_count": 4,
     "metadata": {},
     "output_type": "execute_result"
    }
   ],
   "source": [
    "df.head(3)"
   ]
  },
  {
   "cell_type": "code",
   "execution_count": 6,
   "id": "967c8887",
   "metadata": {},
   "outputs": [
    {
     "data": {
      "text/html": [
       "<div>\n",
       "<style scoped>\n",
       "    .dataframe tbody tr th:only-of-type {\n",
       "        vertical-align: middle;\n",
       "    }\n",
       "\n",
       "    .dataframe tbody tr th {\n",
       "        vertical-align: top;\n",
       "    }\n",
       "\n",
       "    .dataframe thead th {\n",
       "        text-align: right;\n",
       "    }\n",
       "</style>\n",
       "<table border=\"1\" class=\"dataframe\">\n",
       "  <thead>\n",
       "    <tr style=\"text-align: right;\">\n",
       "      <th></th>\n",
       "      <th>bloco</th>\n",
       "      <th>nome</th>\n",
       "      <th>capacidade</th>\n",
       "      <th>tipo</th>\n",
       "    </tr>\n",
       "  </thead>\n",
       "  <tbody>\n",
       "    <tr>\n",
       "      <th>0</th>\n",
       "      <td>CI</td>\n",
       "      <td>102</td>\n",
       "      <td>57</td>\n",
       "      <td>Sala</td>\n",
       "    </tr>\n",
       "    <tr>\n",
       "      <th>1</th>\n",
       "      <td>LIEPE</td>\n",
       "      <td>04</td>\n",
       "      <td>69</td>\n",
       "      <td>Sala</td>\n",
       "    </tr>\n",
       "    <tr>\n",
       "      <th>2</th>\n",
       "      <td>CI</td>\n",
       "      <td>104</td>\n",
       "      <td>32</td>\n",
       "      <td>Sala</td>\n",
       "    </tr>\n",
       "  </tbody>\n",
       "</table>\n",
       "</div>"
      ],
      "text/plain": [
       "   bloco nome  capacidade  tipo\n",
       "0     CI  102          57  Sala\n",
       "1  LIEPE   04          69  Sala\n",
       "2     CI  104          32  Sala"
      ]
     },
     "execution_count": 6,
     "metadata": {},
     "output_type": "execute_result"
    }
   ],
   "source": [
    "salas = df.drop(columns = ['preferencias', 'execao', 'acessivel', 'id', 'classes'])\n",
    "salas.head(3)"
   ]
  },
  {
   "cell_type": "code",
   "execution_count": 7,
   "id": "790c3240",
   "metadata": {},
   "outputs": [
    {
     "name": "stdout",
     "output_type": "stream",
     "text": [
      "['Sala' 'Laboratório' 'Lab Hardware']\n"
     ]
    }
   ],
   "source": [
    "print(salas['tipo'].unique())"
   ]
  },
  {
   "cell_type": "code",
   "execution_count": 8,
   "id": "77f10812",
   "metadata": {},
   "outputs": [
    {
     "name": "stdout",
     "output_type": "stream",
     "text": [
      "['Sala' 'Laboratório']\n"
     ]
    }
   ],
   "source": [
    "def troca(valor):\n",
    "    if valor == \"Lab Hardware\":\n",
    "        valor = \"Laboratório\"\n",
    "    elif valor == \"Sala\":\n",
    "        valor = \"Sala\"\n",
    "    elif valor == \"Laboratório\":\n",
    "        valor = \"Laboratório\"\n",
    "    return valor\n",
    "\n",
    "salas['tipo'] = salas['tipo'].apply(troca)\n",
    "print(salas['tipo'].unique())"
   ]
  },
  {
   "cell_type": "code",
   "execution_count": 10,
   "id": "d260a440",
   "metadata": {},
   "outputs": [
    {
     "data": {
      "text/html": [
       "<div>\n",
       "<style scoped>\n",
       "    .dataframe tbody tr th:only-of-type {\n",
       "        vertical-align: middle;\n",
       "    }\n",
       "\n",
       "    .dataframe tbody tr th {\n",
       "        vertical-align: top;\n",
       "    }\n",
       "\n",
       "    .dataframe thead th {\n",
       "        text-align: right;\n",
       "    }\n",
       "</style>\n",
       "<table border=\"1\" class=\"dataframe\">\n",
       "  <thead>\n",
       "    <tr style=\"text-align: right;\">\n",
       "      <th></th>\n",
       "      <th>bloco</th>\n",
       "      <th>nome</th>\n",
       "      <th>capacidade</th>\n",
       "      <th>tipo</th>\n",
       "    </tr>\n",
       "  </thead>\n",
       "  <tbody>\n",
       "    <tr>\n",
       "      <th>0</th>\n",
       "      <td>CI</td>\n",
       "      <td>102</td>\n",
       "      <td>57</td>\n",
       "      <td>Sala</td>\n",
       "    </tr>\n",
       "    <tr>\n",
       "      <th>1</th>\n",
       "      <td>LIEPE</td>\n",
       "      <td>04</td>\n",
       "      <td>69</td>\n",
       "      <td>Sala</td>\n",
       "    </tr>\n",
       "    <tr>\n",
       "      <th>2</th>\n",
       "      <td>CI</td>\n",
       "      <td>104</td>\n",
       "      <td>32</td>\n",
       "      <td>Sala</td>\n",
       "    </tr>\n",
       "  </tbody>\n",
       "</table>\n",
       "</div>"
      ],
      "text/plain": [
       "   bloco nome  capacidade  tipo\n",
       "0     CI  102          57  Sala\n",
       "1  LIEPE   04          69  Sala\n",
       "2     CI  104          32  Sala"
      ]
     },
     "execution_count": 10,
     "metadata": {},
     "output_type": "execute_result"
    }
   ],
   "source": [
    "salas[:3]"
   ]
  },
  {
   "cell_type": "code",
   "execution_count": 8,
   "id": "75f334b5",
   "metadata": {},
   "outputs": [],
   "source": [
    "salas.to_csv('salas.csv', index = False)"
   ]
  },
  {
   "cell_type": "code",
   "execution_count": 18,
   "id": "e87ed7af",
   "metadata": {},
   "outputs": [
    {
     "data": {
      "text/plain": [
       "{'id': 5341,\n",
       " 'codigo': '1107131',\n",
       " 'nome': 'PESQUISA OPERACIONAL',\n",
       " 'turma': '1',\n",
       " 'docente': 'ANAND SUBRAMANIAN',\n",
       " 'departamento': 'PPG-I',\n",
       " 'horario': '6T456 6N1',\n",
       " 'alunos': '3',\n",
       " 'preferencias': [{'name': 'Sala', 'value': 10},\n",
       "  {'name': 'Laboratório', 'value': 0},\n",
       "  {'name': 'Lab Hardware', 'value': 0}],\n",
       " 'pcd': False,\n",
       " 'pre_alocacao': 'CI 102'}"
      ]
     },
     "execution_count": 18,
     "metadata": {},
     "output_type": "execute_result"
    }
   ],
   "source": [
    "classes = df['classes']\n",
    "classes[0][0] # Primeira classe da primeira sala"
   ]
  },
  {
   "cell_type": "code",
   "execution_count": 19,
   "id": "61fc33b9",
   "metadata": {},
   "outputs": [],
   "source": [
    "# Crie uma lista vazia para armazenar os DataFrames separados\n",
    "dataframes = []\n",
    "\n",
    "# Itera sobre a série e converte cada elemento em um DataFrame\n",
    "for element in classes:\n",
    "    df = pd.DataFrame(element)\n",
    "    dataframes.append(df)\n",
    "\n",
    "# Imprima cada DataFrame separadamente\n",
    "# for idx, df in enumerate(dataframes):\n",
    "    #print(f\"DataFrame {idx}:\")\n",
    "    #print(df)\n",
    "    #print()"
   ]
  },
  {
   "cell_type": "code",
   "execution_count": 20,
   "id": "81a20ecb",
   "metadata": {},
   "outputs": [],
   "source": [
    "df = pd.concat(dataframes)"
   ]
  },
  {
   "cell_type": "code",
   "execution_count": 22,
   "id": "4f12356b",
   "metadata": {},
   "outputs": [
    {
     "data": {
      "text/html": [
       "<div>\n",
       "<style scoped>\n",
       "    .dataframe tbody tr th:only-of-type {\n",
       "        vertical-align: middle;\n",
       "    }\n",
       "\n",
       "    .dataframe tbody tr th {\n",
       "        vertical-align: top;\n",
       "    }\n",
       "\n",
       "    .dataframe thead th {\n",
       "        text-align: right;\n",
       "    }\n",
       "</style>\n",
       "<table border=\"1\" class=\"dataframe\">\n",
       "  <thead>\n",
       "    <tr style=\"text-align: right;\">\n",
       "      <th></th>\n",
       "      <th>id</th>\n",
       "      <th>codigo</th>\n",
       "      <th>nome</th>\n",
       "      <th>turma</th>\n",
       "      <th>docente</th>\n",
       "      <th>departamento</th>\n",
       "      <th>horario</th>\n",
       "      <th>alunos</th>\n",
       "      <th>preferencias</th>\n",
       "      <th>pcd</th>\n",
       "      <th>pre_alocacao</th>\n",
       "    </tr>\n",
       "  </thead>\n",
       "  <tbody>\n",
       "    <tr>\n",
       "      <th>0</th>\n",
       "      <td>5341</td>\n",
       "      <td>1107131</td>\n",
       "      <td>PESQUISA OPERACIONAL</td>\n",
       "      <td>1</td>\n",
       "      <td>ANAND SUBRAMANIAN</td>\n",
       "      <td>PPG-I</td>\n",
       "      <td>6T456 6N1</td>\n",
       "      <td>3</td>\n",
       "      <td>[{'name': 'Sala', 'value': 10}, {'name': 'Labo...</td>\n",
       "      <td>False</td>\n",
       "      <td>CI 102</td>\n",
       "    </tr>\n",
       "    <tr>\n",
       "      <th>1</th>\n",
       "      <td>5342</td>\n",
       "      <td>GDSCO0046</td>\n",
       "      <td>FÍSICA EXPERIMENTAL PARA COMPUTAÇÃO</td>\n",
       "      <td>3</td>\n",
       "      <td>JAIRO ROCHA DE FARIA</td>\n",
       "      <td>CI-DSC</td>\n",
       "      <td>5T23</td>\n",
       "      <td>40</td>\n",
       "      <td>[{'name': 'Sala', 'value': 10}, {'name': 'Labo...</td>\n",
       "      <td>False</td>\n",
       "      <td>CI 102</td>\n",
       "    </tr>\n",
       "    <tr>\n",
       "      <th>2</th>\n",
       "      <td>5343</td>\n",
       "      <td>1107201</td>\n",
       "      <td>METODOLOGIA DO TRABALHO CIENTIFICO</td>\n",
       "      <td>2</td>\n",
       "      <td>THAIS GAUDENCIO DO REGO</td>\n",
       "      <td>CI-DI</td>\n",
       "      <td>3T456</td>\n",
       "      <td>57</td>\n",
       "      <td>[{'name': 'Sala', 'value': 10}, {'name': 'Labo...</td>\n",
       "      <td>False</td>\n",
       "      <td>CI 102</td>\n",
       "    </tr>\n",
       "  </tbody>\n",
       "</table>\n",
       "</div>"
      ],
      "text/plain": [
       "     id     codigo                                   nome turma  \\\n",
       "0  5341    1107131                   PESQUISA OPERACIONAL     1   \n",
       "1  5342  GDSCO0046   FÍSICA EXPERIMENTAL PARA COMPUTAÇÃO      3   \n",
       "2  5343    1107201    METODOLOGIA DO TRABALHO CIENTIFICO      2   \n",
       "\n",
       "                   docente departamento    horario alunos  \\\n",
       "0        ANAND SUBRAMANIAN        PPG-I  6T456 6N1      3   \n",
       "1     JAIRO ROCHA DE FARIA       CI-DSC       5T23     40   \n",
       "2  THAIS GAUDENCIO DO REGO        CI-DI      3T456     57   \n",
       "\n",
       "                                        preferencias    pcd pre_alocacao  \n",
       "0  [{'name': 'Sala', 'value': 10}, {'name': 'Labo...  False       CI 102  \n",
       "1  [{'name': 'Sala', 'value': 10}, {'name': 'Labo...  False       CI 102  \n",
       "2  [{'name': 'Sala', 'value': 10}, {'name': 'Labo...  False       CI 102  "
      ]
     },
     "execution_count": 22,
     "metadata": {},
     "output_type": "execute_result"
    }
   ],
   "source": [
    "df.head(3)"
   ]
  },
  {
   "cell_type": "code",
   "execution_count": 23,
   "id": "25dd3534",
   "metadata": {},
   "outputs": [
    {
     "data": {
      "text/plain": [
       "[{'name': 'Sala', 'value': 10},\n",
       " {'name': 'Laboratório', 'value': 0},\n",
       " {'name': 'Lab Hardware', 'value': 0}]"
      ]
     },
     "execution_count": 23,
     "metadata": {},
     "output_type": "execute_result"
    }
   ],
   "source": [
    "df.iloc[0]['preferencias']"
   ]
  },
  {
   "cell_type": "code",
   "execution_count": 25,
   "id": "8ed9633e",
   "metadata": {},
   "outputs": [
    {
     "data": {
      "text/html": [
       "<div>\n",
       "<style scoped>\n",
       "    .dataframe tbody tr th:only-of-type {\n",
       "        vertical-align: middle;\n",
       "    }\n",
       "\n",
       "    .dataframe tbody tr th {\n",
       "        vertical-align: top;\n",
       "    }\n",
       "\n",
       "    .dataframe thead th {\n",
       "        text-align: right;\n",
       "    }\n",
       "</style>\n",
       "<table border=\"1\" class=\"dataframe\">\n",
       "  <thead>\n",
       "    <tr style=\"text-align: right;\">\n",
       "      <th></th>\n",
       "      <th>id</th>\n",
       "      <th>codigo</th>\n",
       "      <th>nome</th>\n",
       "      <th>turma</th>\n",
       "      <th>docente</th>\n",
       "      <th>departamento</th>\n",
       "      <th>horario</th>\n",
       "      <th>alunos</th>\n",
       "      <th>preferencias</th>\n",
       "      <th>pcd</th>\n",
       "      <th>pre_alocacao</th>\n",
       "      <th>preferencia</th>\n",
       "    </tr>\n",
       "  </thead>\n",
       "  <tbody>\n",
       "    <tr>\n",
       "      <th>0</th>\n",
       "      <td>5341</td>\n",
       "      <td>1107131</td>\n",
       "      <td>PESQUISA OPERACIONAL</td>\n",
       "      <td>1</td>\n",
       "      <td>ANAND SUBRAMANIAN</td>\n",
       "      <td>PPG-I</td>\n",
       "      <td>6T456 6N1</td>\n",
       "      <td>3</td>\n",
       "      <td>[{'name': 'Sala', 'value': 10}, {'name': 'Labo...</td>\n",
       "      <td>False</td>\n",
       "      <td>CI 102</td>\n",
       "      <td>Sala</td>\n",
       "    </tr>\n",
       "    <tr>\n",
       "      <th>1</th>\n",
       "      <td>5342</td>\n",
       "      <td>GDSCO0046</td>\n",
       "      <td>FÍSICA EXPERIMENTAL PARA COMPUTAÇÃO</td>\n",
       "      <td>3</td>\n",
       "      <td>JAIRO ROCHA DE FARIA</td>\n",
       "      <td>CI-DSC</td>\n",
       "      <td>5T23</td>\n",
       "      <td>40</td>\n",
       "      <td>[{'name': 'Sala', 'value': 10}, {'name': 'Labo...</td>\n",
       "      <td>False</td>\n",
       "      <td>CI 102</td>\n",
       "      <td>Sala</td>\n",
       "    </tr>\n",
       "    <tr>\n",
       "      <th>2</th>\n",
       "      <td>5343</td>\n",
       "      <td>1107201</td>\n",
       "      <td>METODOLOGIA DO TRABALHO CIENTIFICO</td>\n",
       "      <td>2</td>\n",
       "      <td>THAIS GAUDENCIO DO REGO</td>\n",
       "      <td>CI-DI</td>\n",
       "      <td>3T456</td>\n",
       "      <td>57</td>\n",
       "      <td>[{'name': 'Sala', 'value': 10}, {'name': 'Labo...</td>\n",
       "      <td>False</td>\n",
       "      <td>CI 102</td>\n",
       "      <td>Sala</td>\n",
       "    </tr>\n",
       "  </tbody>\n",
       "</table>\n",
       "</div>"
      ],
      "text/plain": [
       "     id     codigo                                   nome turma  \\\n",
       "0  5341    1107131                   PESQUISA OPERACIONAL     1   \n",
       "1  5342  GDSCO0046   FÍSICA EXPERIMENTAL PARA COMPUTAÇÃO      3   \n",
       "2  5343    1107201    METODOLOGIA DO TRABALHO CIENTIFICO      2   \n",
       "\n",
       "                   docente departamento    horario alunos  \\\n",
       "0        ANAND SUBRAMANIAN        PPG-I  6T456 6N1      3   \n",
       "1     JAIRO ROCHA DE FARIA       CI-DSC       5T23     40   \n",
       "2  THAIS GAUDENCIO DO REGO        CI-DI      3T456     57   \n",
       "\n",
       "                                        preferencias    pcd pre_alocacao  \\\n",
       "0  [{'name': 'Sala', 'value': 10}, {'name': 'Labo...  False       CI 102   \n",
       "1  [{'name': 'Sala', 'value': 10}, {'name': 'Labo...  False       CI 102   \n",
       "2  [{'name': 'Sala', 'value': 10}, {'name': 'Labo...  False       CI 102   \n",
       "\n",
       "  preferencia  \n",
       "0        Sala  \n",
       "1        Sala  \n",
       "2        Sala  "
      ]
     },
     "execution_count": 25,
     "metadata": {},
     "output_type": "execute_result"
    }
   ],
   "source": [
    "preferencias = []\n",
    "\n",
    "for i in range(len(df)):\n",
    "    preferencia = df.iloc[i]['preferencias'][0]['name']\n",
    "    preferencias.append(preferencia)\n",
    "df['preferencia'] = preferencias\n",
    "df[:3]"
   ]
  },
  {
   "cell_type": "code",
   "execution_count": 26,
   "id": "e3648e24",
   "metadata": {},
   "outputs": [
    {
     "data": {
      "text/html": [
       "<div>\n",
       "<style scoped>\n",
       "    .dataframe tbody tr th:only-of-type {\n",
       "        vertical-align: middle;\n",
       "    }\n",
       "\n",
       "    .dataframe tbody tr th {\n",
       "        vertical-align: top;\n",
       "    }\n",
       "\n",
       "    .dataframe thead th {\n",
       "        text-align: right;\n",
       "    }\n",
       "</style>\n",
       "<table border=\"1\" class=\"dataframe\">\n",
       "  <thead>\n",
       "    <tr style=\"text-align: right;\">\n",
       "      <th></th>\n",
       "      <th>id</th>\n",
       "      <th>nome</th>\n",
       "      <th>turma</th>\n",
       "      <th>horario</th>\n",
       "      <th>alunos</th>\n",
       "      <th>preferencia</th>\n",
       "    </tr>\n",
       "  </thead>\n",
       "  <tbody>\n",
       "    <tr>\n",
       "      <th>0</th>\n",
       "      <td>5341</td>\n",
       "      <td>PESQUISA OPERACIONAL</td>\n",
       "      <td>1</td>\n",
       "      <td>6T456 6N1</td>\n",
       "      <td>3</td>\n",
       "      <td>Sala</td>\n",
       "    </tr>\n",
       "    <tr>\n",
       "      <th>1</th>\n",
       "      <td>5342</td>\n",
       "      <td>FÍSICA EXPERIMENTAL PARA COMPUTAÇÃO</td>\n",
       "      <td>3</td>\n",
       "      <td>5T23</td>\n",
       "      <td>40</td>\n",
       "      <td>Sala</td>\n",
       "    </tr>\n",
       "    <tr>\n",
       "      <th>2</th>\n",
       "      <td>5343</td>\n",
       "      <td>METODOLOGIA DO TRABALHO CIENTIFICO</td>\n",
       "      <td>2</td>\n",
       "      <td>3T456</td>\n",
       "      <td>57</td>\n",
       "      <td>Sala</td>\n",
       "    </tr>\n",
       "  </tbody>\n",
       "</table>\n",
       "</div>"
      ],
      "text/plain": [
       "     id                                   nome turma    horario alunos  \\\n",
       "0  5341                   PESQUISA OPERACIONAL     1  6T456 6N1      3   \n",
       "1  5342   FÍSICA EXPERIMENTAL PARA COMPUTAÇÃO      3       5T23     40   \n",
       "2  5343    METODOLOGIA DO TRABALHO CIENTIFICO      2      3T456     57   \n",
       "\n",
       "  preferencia  \n",
       "0        Sala  \n",
       "1        Sala  \n",
       "2        Sala  "
      ]
     },
     "execution_count": 26,
     "metadata": {},
     "output_type": "execute_result"
    }
   ],
   "source": [
    "df = df.drop(columns = 'preferencias')\n",
    "df = df.drop(columns = 'departamento')\n",
    "df = df.drop(columns = 'docente')\n",
    "df = df.drop(columns = 'pcd')\n",
    "df = df.drop(columns = 'pre_alocacao')\n",
    "df = df.drop(columns = 'codigo')\n",
    "df[:3]"
   ]
  },
  {
   "cell_type": "code",
   "execution_count": 27,
   "id": "c7eb8ab7",
   "metadata": {},
   "outputs": [
    {
     "name": "stdout",
     "output_type": "stream",
     "text": [
      "['Sala' 'Laboratório' 'Lab Hardware']\n",
      "['Sala' 'Laboratório']\n"
     ]
    }
   ],
   "source": [
    "print(df['preferencia'].unique())\n",
    "def troca(valor):\n",
    "    if valor == \"Lab Hardware\":\n",
    "        valor = \"Laboratório\"\n",
    "    elif valor == \"Sala\":\n",
    "        valor = \"Sala\"\n",
    "    elif valor == \"Laboratório\":\n",
    "        valor = \"Laboratório\"\n",
    "    return valor\n",
    "\n",
    "df['preferencia'] = df['preferencia'].apply(troca)\n",
    "print(df['preferencia'].unique())"
   ]
  },
  {
   "cell_type": "code",
   "execution_count": 28,
   "id": "fe70ab75",
   "metadata": {},
   "outputs": [
    {
     "name": "stdout",
     "output_type": "stream",
     "text": [
      "['6T456 6N1' '5T23' '3T456' '24M45' '5M1  24T45' '35M23' '24M23' '35M45'\n",
      " '6M2345' '24T23' '3T23' '35T23' '35T45' '3T234' '36M23' '4T2345' '24T45'\n",
      " '6M345' '6T23' '24T56' '5M23' '2M45' '4M45' '3M23' '4M23' '6M45' '2T234'\n",
      " '6T2345' '246T23']\n"
     ]
    }
   ],
   "source": [
    "print((df['horario'].unique()))"
   ]
  },
  {
   "cell_type": "markdown",
   "id": "6a87245e",
   "metadata": {},
   "source": [
    "6M345          3\n",
    "5M23           3\n",
    "36M23          2\n",
    "5T23           2\n",
    "4M45           2\n",
    "3M23           2\n",
    "2M45           2\n",
    "4M23           2\n",
    "6M2345         2\n",
    "2T234          1\n",
    "6T2345         1\n",
    "6M45           1\n",
    "6T456 6N1      1\n",
    "24T56          1\n",
    "6T23           1\n",
    "4T2345         1\n",
    "3T234          1\n",
    "3T23           1\n",
    "5M1  24T45     1\n",
    "3T456          1\n",
    "246T23         1"
   ]
  },
  {
   "attachments": {},
   "cell_type": "markdown",
   "id": "25e665ed",
   "metadata": {},
   "source": [
    "# Criação dos CSV's"
   ]
  },
  {
   "cell_type": "code",
   "execution_count": null,
   "id": "0759032a",
   "metadata": {},
   "outputs": [],
   "source": [
    "#df.to_csv('turmas.csv', index = False)"
   ]
  },
  {
   "cell_type": "code",
   "execution_count": null,
   "id": "b6a0da1c",
   "metadata": {},
   "outputs": [],
   "source": [
    "SQT45 = df[df['horario'] == '24T45']\n",
    "SQT45.to_csv('SQT45.csv', index = False)\n",
    "\n",
    "TQT45 = df[df['horario'] == '35T45']\n",
    "TQT45.to_csv('TQT45.csv', index = False)\n",
    "\n",
    "SQM23 = df[df['horario'] == '24M23']\n",
    "SQM23.to_csv('SQM23.csv', index = False)\n",
    "\n",
    "SQT23 = df[df['horario'] == '24T23']\n",
    "SQT23.to_csv('SQT23.csv', index = False)\n",
    "\n",
    "TQM23 = df[df['horario'] == '35M23']\n",
    "TQM23.to_csv('TQM23.csv', index = False)\n",
    "\n",
    "SQM45 = df[df['horario'] == '24M45']\n",
    "SQM45.to_csv('SQM45.csv', index = False)\n",
    "\n",
    "TQT23 = df[df['horario'] == '35T23']\n",
    "TQT23.to_csv('TQT23.csv', index = False)\n",
    "\n",
    "TQM45 = df[df['horario'] == '35M45']\n",
    "TQM45.to_csv('TQM45.csv', index = False)\n",
    "\n",
    "TQM23 = df[df['horario'] == '35M23']\n",
    "TQM23.to_csv('TQM23.csv', index = False)"
   ]
  },
  {
   "cell_type": "code",
   "execution_count": null,
   "id": "5b8c5522",
   "metadata": {},
   "outputs": [],
   "source": [
    "turmas_especiais = df[~df['horario'].isin(['35M45','24M45','35T23','35M23','24T23','24M23','35T45','24T45'])] # Todas as que não forem as anteriores\n",
    "turmas_especiais.to_csv('turmas_especiais.csv', index = False)"
   ]
  }
 ],
 "metadata": {
  "kernelspec": {
   "display_name": "Python 3 (ipykernel)",
   "language": "python",
   "name": "python3"
  },
  "language_info": {
   "codemirror_mode": {
    "name": "ipython",
    "version": 3
   },
   "file_extension": ".py",
   "mimetype": "text/x-python",
   "name": "python",
   "nbconvert_exporter": "python",
   "pygments_lexer": "ipython3",
   "version": "3.10.6"
  }
 },
 "nbformat": 4,
 "nbformat_minor": 5
}
